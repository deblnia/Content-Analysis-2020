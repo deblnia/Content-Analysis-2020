{
 "cells": [
  {
   "cell_type": "code",
   "execution_count": null,
   "metadata": {},
   "outputs": [],
   "source": [
    "#All these packages need to be installed from pip\n",
    "import requests #for http requests\n",
    "import bs4 #called `beautifulsoup4`, an html parser\n",
    "import pandas as pd #gives us DataFrames\n",
    "import docx #reading MS doc files, install as `python-docx`\n",
    "import csv\n",
    "\n",
    "#Stuff for pdfs\n",
    "#Install as `pdfminer2`\n",
    "import pdfminer.pdfinterp\n",
    "import pdfminer.converter\n",
    "import pdfminer.layout\n",
    "import pdfminer.pdfpage\n",
    "\n",
    "#These come with Python\n",
    "\n",
    "import re #for regexs\n",
    "import urllib.parse #For joining urls\n",
    "import io #for making http requests look like files\n",
    "import json #For Tumblr API responses\n",
    "import os.path #For checking if files exist\n",
    "import os #For making directories\n",
    "\n",
    "# nltk dependencies \n",
    "import nltk\n",
    "import ssl\n",
    "\n",
    "#pubmed specific stuff\n",
    "from pubmed_lookup import PubMedLookup\n",
    "from pubmed_lookup import Publication\n",
    "import ssl\n",
    "ssl._create_default_https_context = ssl._create_unverified_context"
   ]
  },
  {
   "cell_type": "markdown",
   "metadata": {},
   "source": [
    "## Scraping using PubMed_Lookup"
   ]
  },
  {
   "cell_type": "code",
   "execution_count": 9,
   "metadata": {},
   "outputs": [
    {
     "data": {
      "text/plain": [
       "['30784590', '30692680', '30659290', '30609404', '30445657']"
      ]
     },
     "execution_count": 9,
     "metadata": {},
     "output_type": "execute_result"
    }
   ],
   "source": [
    "pmids_list = []\n",
    "with open('week-1/pmids_na_omit.txt') as csvfile:\n",
    "    pmids = csv.reader(csvfile, delimiter=',')\n",
    "    for row in pmids:\n",
    "        for i in row: \n",
    "            pmids_list.append(i)\n",
    "pmids_list[:5]"
   ]
  },
  {
   "cell_type": "code",
   "execution_count": null,
   "metadata": {},
   "outputs": [],
   "source": [
    "all_links = []\n",
    "for pmid in pmids_list: \n",
    "    all_links.append(\"http://www.ncbi.nlm.nih.gov/pubmed/%s\" % pmid)\n",
    "all_links[:5]"
   ]
  },
  {
   "cell_type": "code",
   "execution_count": null,
   "metadata": {},
   "outputs": [],
   "source": [
    "# THIS IS A SCRAPE \n",
    "# abs_corpus = []\n",
    "# for link in all_links: \n",
    "#     try: \n",
    "#         email = 'deblina@uchicago.edu'\n",
    "#         lookup = PubMedLookup(link, email)\n",
    "#         publication = Publication(lookup) \n",
    "#         abs_corpus.append(publication)\n",
    "#     except TypeError: \n",
    "#         pass \n",
    "#     except RuntimeError: \n",
    "#         pass\n",
    "#     except TimeoutError: \n",
    "#         pass"
   ]
  },
  {
   "cell_type": "code",
   "execution_count": null,
   "metadata": {},
   "outputs": [],
   "source": [
    "# CLEANING INTO DICTIONARY \n",
    "# dic = {}\n",
    "# for pub in abs_corpus: \n",
    "#     dic[pub.title] = [pub.abstract]"
   ]
  },
  {
   "cell_type": "code",
   "execution_count": null,
   "metadata": {},
   "outputs": [],
   "source": [
    "# SAVING TO CSV \n",
    "# with open('more_corp.csv', 'w') as f:  # Just use 'w' mode in 3.x\n",
    "#     w = csv.DictWriter(f, dic.keys())\n",
    "#     w.writeheader()\n",
    "#     w.writerow(dic)"
   ]
  },
  {
   "cell_type": "markdown",
   "metadata": {},
   "source": [
    "## Scraping w. Entrez API\n",
    "Want to have: \n",
    "- Major Topic \n",
    "- Abstract \n",
    "- Title \n",
    "- MESH Terms \n",
    "\n",
    "for every PMID. "
   ]
  },
  {
   "cell_type": "code",
   "execution_count": 153,
   "metadata": {},
   "outputs": [],
   "source": [
    "class Publication: \n",
    "    def _init_(self, pmid): \n",
    "        self.pmid = pmid\n",
    "        self.title = None \n",
    "        self.abstract = None \n",
    "        self.major_topics = None\n",
    "        self.mesh_terms = None\n",
    "    def fill_attributes(pmid): \n",
    "        handle = en.efetch(db=\"pubmed\",id=pmid,rettype=\"null\",retmode=\"xml\")\n",
    "        record = Entrez.read(handle)\n",
    "        self.title = record['PubmedArticle'][0]['MedlineCitation']['Article']['ArticleTitle'] \n",
    "        self.abstract = record['PubmedArticle'][0]['MedlineCitation']['Article']['Abstract']['AbstractText'][0]\n",
    "        \n",
    "        self.major_topics = record['PubmedArticle'][0]['MedlineCitation']['KeywordList'][0]\n",
    "        self.mesh_terms = record['PubmedArticle'][0]['MedlineCitation']['MeshHeadingList']"
   ]
  },
  {
   "cell_type": "code",
   "execution_count": null,
   "metadata": {},
   "outputs": [],
   "source": [
    "from Bio import Entrez as en\n",
    "en.email = \"deblina@uchicago.edu\"\n",
    "en.api_key = \"0de728102b2b58a83f3986d583c23f766008\" \n",
    "en.sleep_between_tries = 10 "
   ]
  },
  {
   "cell_type": "code",
   "execution_count": 133,
   "metadata": {},
   "outputs": [],
   "source": [
    "handle = en.efetch(db=\"pubmed\",id=pmids_list[0],rettype=\"null\",retmode=\"xml\")\n",
    "record = Entrez.read(handle)"
   ]
  },
  {
   "cell_type": "code",
   "execution_count": 134,
   "metadata": {},
   "outputs": [
    {
     "data": {
      "text/plain": [
       "'Large cohorts of human induced pluripotent stem cells (iPSCs) from healthy donors are a potentially powerful tool for investigating the relationship between genetic variants and cellular behavior. Here, we integrate high content imaging of cell shape, proliferation, and other phenotypes with gene expression and DNA sequence datasets from over 100 human iPSC lines. By applying a dimensionality reduction approach, Probabilistic Estimation of Expression Residuals (PEER), we extracted factors that captured the effects of intrinsic (genetic concordance between different cell lines from the same donor) and extrinsic (cell responses to different fibronectin concentrations) conditions. We identify genes that correlate in expression with intrinsic and extrinsic PEER factors and associate outlier cell behavior with genes containing rare deleterious non-synonymous SNVs. Our study, thus, establishes a strategy for examining the genetic basis of inter-individual variability in cell behavior.'"
      ]
     },
     "execution_count": 134,
     "metadata": {},
     "output_type": "execute_result"
    }
   ],
   "source": [
    "record['PubmedArticle'][0]['MedlineCitation']['Article']['Abstract']['AbstractText'][0] #abstract "
   ]
  },
  {
   "cell_type": "code",
   "execution_count": 135,
   "metadata": {},
   "outputs": [
    {
     "data": {
      "text/plain": [
       "'Identifying Extrinsic versus Intrinsic Drivers of Variation in Cell Behavior in Human iPSC Lines from Healthy Donors.'"
      ]
     },
     "execution_count": 135,
     "metadata": {},
     "output_type": "execute_result"
    }
   ],
   "source": [
    "record['PubmedArticle'][0]['MedlineCitation']['Article']['ArticleTitle'] #title"
   ]
  },
  {
   "cell_type": "code",
   "execution_count": 136,
   "metadata": {},
   "outputs": [
    {
     "data": {
      "text/plain": [
       "ListElement([StringElement('SNV', attributes={'MajorTopicYN': 'Y'}), StringElement('cell adhesion', attributes={'MajorTopicYN': 'Y'}), StringElement('dimensionality reduction', attributes={'MajorTopicYN': 'Y'}), StringElement('fibronectin', attributes={'MajorTopicYN': 'Y'}), StringElement('genetic variation', attributes={'MajorTopicYN': 'Y'}), StringElement('high content imaging', attributes={'MajorTopicYN': 'Y'}), StringElement('iPSC', attributes={'MajorTopicYN': 'Y'}), StringElement('stem cell niche', attributes={'MajorTopicYN': 'Y'}), StringElement('stem cells', attributes={'MajorTopicYN': 'Y'})], attributes={'Owner': 'NOTNLM'})"
      ]
     },
     "execution_count": 136,
     "metadata": {},
     "output_type": "execute_result"
    }
   ],
   "source": [
    "record['PubmedArticle'][0]['MedlineCitation']['KeywordList'][0]"
   ]
  },
  {
   "cell_type": "code",
   "execution_count": 138,
   "metadata": {},
   "outputs": [
    {
     "data": {
      "text/plain": [
       "[{'QualifierName': [StringElement('genetics', attributes={'UI': 'Q000235', 'MajorTopicYN': 'Y'})], 'DescriptorName': StringElement('Disease', attributes={'UI': 'D004194', 'MajorTopicYN': 'N'})}, {'QualifierName': [StringElement('genetics', attributes={'UI': 'Q000235', 'MajorTopicYN': 'Y'})], 'DescriptorName': StringElement('Genome', attributes={'UI': 'D016678', 'MajorTopicYN': 'N'})}, {'QualifierName': [StringElement('methods', attributes={'UI': 'Q000379', 'MajorTopicYN': 'N'})], 'DescriptorName': StringElement('Genome-Wide Association Study', attributes={'UI': 'D055106', 'MajorTopicYN': 'N'})}, {'QualifierName': [StringElement('methods', attributes={'UI': 'Q000379', 'MajorTopicYN': 'N'})], 'DescriptorName': StringElement('Genomics', attributes={'UI': 'D023281', 'MajorTopicYN': 'N'})}, {'QualifierName': [], 'DescriptorName': StringElement('Humans', attributes={'UI': 'D006801', 'MajorTopicYN': 'N'})}, {'QualifierName': [StringElement('methods', attributes={'UI': 'Q000379', 'MajorTopicYN': 'N'})], 'DescriptorName': StringElement('Molecular Sequence Annotation', attributes={'UI': 'D058977', 'MajorTopicYN': 'N'})}, {'QualifierName': [], 'DescriptorName': StringElement('Phenotype', attributes={'UI': 'D010641', 'MajorTopicYN': 'N'})}, {'QualifierName': [StringElement('genetics', attributes={'UI': 'Q000235', 'MajorTopicYN': 'N'})], 'DescriptorName': StringElement('Polymorphism, Single Nucleotide', attributes={'UI': 'D020641', 'MajorTopicYN': 'N'})}, {'QualifierName': [StringElement('genetics', attributes={'UI': 'Q000235', 'MajorTopicYN': 'N'})], 'DescriptorName': StringElement('Quantitative Trait Loci', attributes={'UI': 'D040641', 'MajorTopicYN': 'N'})}, {'QualifierName': [StringElement('genetics', attributes={'UI': 'Q000235', 'MajorTopicYN': 'N'})], 'DescriptorName': StringElement('Regulatory Sequences, Nucleic Acid', attributes={'UI': 'D012045', 'MajorTopicYN': 'N'})}, {'QualifierName': [], 'DescriptorName': StringElement('Software', attributes={'UI': 'D012984', 'MajorTopicYN': 'N'})}]"
      ]
     },
     "execution_count": 138,
     "metadata": {},
     "output_type": "execute_result"
    }
   ],
   "source": [
    "handle = en.efetch(db='pubmed', id=pmids_list[1], retmode='xml')\n",
    "xml_data = en.read(handle)\n",
    "xml_data['PubmedArticle'][0]['MedlineCitation']['MeshHeadingList']"
   ]
  },
  {
   "cell_type": "markdown",
   "metadata": {},
   "source": [
    "**TO DO:**\n",
    "1. Put into a function or two \n",
    "2. Run on whole list \n",
    "3. Cluster "
   ]
  },
  {
   "cell_type": "code",
   "execution_count": null,
   "metadata": {},
   "outputs": [],
   "source": []
  }
 ],
 "metadata": {
  "kernelspec": {
   "display_name": "Python 3",
   "language": "python",
   "name": "python3"
  },
  "language_info": {
   "codemirror_mode": {
    "name": "ipython",
    "version": 3
   },
   "file_extension": ".py",
   "mimetype": "text/x-python",
   "name": "python",
   "nbconvert_exporter": "python",
   "pygments_lexer": "ipython3",
   "version": "3.8.0"
  }
 },
 "nbformat": 4,
 "nbformat_minor": 2
}
